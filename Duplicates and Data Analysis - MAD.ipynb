{
 "cells": [
  {
   "cell_type": "markdown",
   "metadata": {},
   "source": [
    "# Lab Fees"
   ]
  },
  {
   "cell_type": "code",
   "execution_count": 1,
   "metadata": {},
   "outputs": [
    {
     "name": "stderr",
     "output_type": "stream",
     "text": [
      "b'Skipping line 59: expected 12 fields, saw 13\\n'\n"
     ]
    }
   ],
   "source": [
    "#read in the data and the file with all the duplicates\n",
    "import pandas as pd\n",
    "import numpy as np\n",
    "\n",
    "lab_dups = pd.read_csv('lab_dups.csv',error_bad_lines=False)\n",
    "lab_newcols = lab_dups['newcols']\n",
    "del lab_dups['newcols']\n",
    "\n",
    "lab = pd.read_csv('lab - not cleaned.csv', encoding = \"ISO-8859-1\", sep = \";\")\n",
    "lab = lab.replace(\"N/A\", np.nan)"
   ]
  },
  {
   "cell_type": "code",
   "execution_count": 2,
   "metadata": {
    "collapsed": true
   },
   "outputs": [],
   "source": [
    "def comb_dups(dups, dat, newcols):\n",
    "    for i in range(0, dups.shape[0]):\n",
    "        newcol_items = []\n",
    "    \n",
    "        colslist = dups.iloc[i].unique() \n",
    "        colslist = [x for x in colslist if str(x) != 'nan'] \n",
    "        for row in range(0, dat.shape[0]):\n",
    "            vals = dat[colslist].iloc[row].unique() \n",
    "            vals = [x for x in vals if str(x) != 'nan']\n",
    "            if len(vals) == 0: \n",
    "                newcol_items.append(np.nan) \n",
    "            else: \n",
    "                vals = [float(v) for v in vals] \n",
    "                newcol_items.append(np.nanmax(vals))\n",
    "\n",
    "        dat = dat.drop(colslist, axis = 1) \n",
    "        dat[newcols[i]] = newcol_items \n",
    "    return(dat)\n",
    "    \n",
    "lab = comb_dups(lab_dups, lab, lab_newcols)"
   ]
  },
  {
   "cell_type": "code",
   "execution_count": 3,
   "metadata": {
    "collapsed": true
   },
   "outputs": [],
   "source": [
    "lab.to_csv('lab.csv',index = False)"
   ]
  },
  {
   "cell_type": "markdown",
   "metadata": {},
   "source": [
    "### Data Analysis"
   ]
  },
  {
   "cell_type": "code",
   "execution_count": 4,
   "metadata": {},
   "outputs": [],
   "source": [
    "from scipy.stats import ttest_ind\n",
    "\n",
    "def summarize(dat):\n",
    "    meds = []\n",
    "    mean = []\n",
    "    sd = []\n",
    "    median = []\n",
    "    mini = []\n",
    "    maxi = []\n",
    "    rangeo = []\n",
    "    n = []\n",
    "    no_urban = []\n",
    "    mean_urban = []\n",
    "    mean_rural = []\n",
    "    no_rural = []\n",
    "    ttests = []\n",
    "    high_outliers = []\n",
    "    low_outliers = []\n",
    "\n",
    "    for col in [c for c in dat.columns.values if c not in ['hosp_name','urban/rural']]:\n",
    "    \n",
    "        vals = [float(i) for i in dat[col] if str(i) != 'nan']\n",
    "    \n",
    "        if len(vals) >= 10:\n",
    "            #summary statistics\n",
    "            meds.append(col)\n",
    "            mean.append(np.mean(vals))\n",
    "            sd.append(np.std(vals))\n",
    "            median.append(np.median(vals))\n",
    "            mini.append(np.nanmin(vals))\n",
    "            maxi.append(np.nanmax(vals))\n",
    "            rangeo.append(np.nanmax(vals) - np.nanmin(vals))\n",
    "            n.append(len(vals))\n",
    "            \n",
    "            #ttest\n",
    "            sub = dat[dat[col].notnull()]\n",
    "            ttest = ttest_ind(sub[col].loc[sub['urban/rural'] == 'U'], sub[col].loc[sub['urban/rural'] == 'R'])[1]\n",
    "            no_urban.append(len(sub[col].loc[sub['urban/rural'] == 'U']))\n",
    "            mean_urban.append(np.mean(sub[col].loc[sub['urban/rural'] == 'U']))\n",
    "            no_rural.append(len(sub[col].loc[sub['urban/rural'] == 'R']))\n",
    "            mean_rural.append(np.mean(sub[col].loc[sub['urban/rural'] == 'R']))\n",
    "            ttests.append(ttest)\n",
    "            \n",
    "            #identifying outliers\n",
    "            high_outlier = []\n",
    "            low_outlier = []\n",
    "    \n",
    "            for hosp in dat['hosp_name']:\n",
    "                if str(dat[col].loc[dat.hosp_name == hosp].values[0]) != 'nan':\n",
    "                    val = dat[col].loc[dat.hosp_name == hosp].values[0]\n",
    "                    \n",
    "                    mad = 1.4826 * np.median(abs(vals - np.median(vals)))\n",
    "\n",
    "                    if np.less(np.median(vals) + 3 * mad, val):\n",
    "                        outlier = [hosp, \": \",str(val)]\n",
    "                        high_outlier.append(\"\".join(outlier))\n",
    "            \n",
    "                    if np.less(val, np.median(vals) - 3 * mad):\n",
    "                        outlier = [hosp, \": \",str(val)]\n",
    "                        low_outlier.append(\"\".join(outlier))\n",
    "    \n",
    "            high_outliers.append(high_outlier)\n",
    "            low_outliers.append(low_outlier)\n",
    "\n",
    "    summary = pd.DataFrame({'meds': meds,\n",
    "                       'mean': mean,\n",
    "                       'sd': sd,\n",
    "                       'median': median,\n",
    "                       'min': mini,\n",
    "                       'max': maxi,\n",
    "                       'range': rangeo,\n",
    "                       'no urban': no_urban,\n",
    "                       'mean urban': mean_urban,\n",
    "                       'no rural': no_rural,\n",
    "                       'mean rural': mean_rural,\n",
    "                       't-test': ttests,\n",
    "                       'N': n,\n",
    "                       'high outliers': high_outliers,\n",
    "                       'low outliers': low_outliers})\n",
    "    return(summary)\n",
    "\n",
    "summary1 = summarize(lab)"
   ]
  },
  {
   "cell_type": "code",
   "execution_count": 5,
   "metadata": {
    "collapsed": true
   },
   "outputs": [],
   "source": [
    "summary1.to_csv('summary1.csv')"
   ]
  },
  {
   "cell_type": "markdown",
   "metadata": {},
   "source": [
    "# Diagnostics Fees"
   ]
  },
  {
   "cell_type": "code",
   "execution_count": 6,
   "metadata": {
    "collapsed": true
   },
   "outputs": [],
   "source": [
    "import pandas as pd\n",
    "import numpy as np\n",
    "\n",
    "diag_dups = pd.read_csv('diag_dups.csv',error_bad_lines=False, encoding = \"ISO-8859-1\", sep = \";\")\n",
    "diag_newcols = diag_dups['newcols']\n",
    "del diag_dups['newcols']\n",
    "\n",
    "diag = pd.read_csv('diag - not cleaned.csv', encoding = \"ISO-8859-1\", sep = \";\")\n",
    "diag = diag.replace(\"N/A\", np.nan)\n",
    "diag = diag.replace(\"N/A \", np.nan)\n",
    "diag = diag.replace(\"\", np.nan)\n",
    "\n",
    "#removing duplicates\n",
    "diag = comb_dups(diag_dups, diag, diag_newcols)"
   ]
  },
  {
   "cell_type": "code",
   "execution_count": 7,
   "metadata": {
    "collapsed": true
   },
   "outputs": [],
   "source": [
    "diag.to_csv('diag.csv')"
   ]
  },
  {
   "cell_type": "code",
   "execution_count": 8,
   "metadata": {},
   "outputs": [
    {
     "name": "stderr",
     "output_type": "stream",
     "text": [
      "C:\\Users\\asus\\Anaconda3\\lib\\site-packages\\numpy\\core\\fromnumeric.py:3126: RuntimeWarning: Degrees of freedom <= 0 for slice\n",
      "  **kwargs)\n",
      "C:\\Users\\asus\\Anaconda3\\lib\\site-packages\\numpy\\core\\_methods.py:127: RuntimeWarning: invalid value encountered in double_scalars\n",
      "  ret = ret.dtype.type(ret / rcount)\n",
      "C:\\Users\\asus\\Anaconda3\\lib\\site-packages\\scipy\\stats\\_distn_infrastructure.py:879: RuntimeWarning: invalid value encountered in greater\n",
      "  return (self.a < x) & (x < self.b)\n",
      "C:\\Users\\asus\\Anaconda3\\lib\\site-packages\\scipy\\stats\\_distn_infrastructure.py:879: RuntimeWarning: invalid value encountered in less\n",
      "  return (self.a < x) & (x < self.b)\n",
      "C:\\Users\\asus\\Anaconda3\\lib\\site-packages\\scipy\\stats\\_distn_infrastructure.py:1818: RuntimeWarning: invalid value encountered in less_equal\n",
      "  cond2 = cond0 & (x <= self.a)\n"
     ]
    }
   ],
   "source": [
    "#summarizing\n",
    "summary2 = summarize(diag)"
   ]
  },
  {
   "cell_type": "code",
   "execution_count": 9,
   "metadata": {
    "collapsed": true
   },
   "outputs": [],
   "source": [
    "summary2.to_csv('summary2.csv')"
   ]
  },
  {
   "cell_type": "markdown",
   "metadata": {},
   "source": [
    "## Summary of Outliers"
   ]
  },
  {
   "cell_type": "code",
   "execution_count": 10,
   "metadata": {
    "collapsed": true
   },
   "outputs": [],
   "source": [
    "summary = pd.DataFrame({\n",
    "    'vars': summary1['meds'],\n",
    "    'high outliers': summary1['high outliers'],\n",
    "    'low outliers': summary1['low outliers']\n",
    "})\n",
    "\n",
    "summary = summary.append(pd.DataFrame({\n",
    "    'vars': summary2['meds'],\n",
    "    'high outliers': summary2['high outliers'],\n",
    "    'low outliers': summary2['low outliers']\n",
    "}))"
   ]
  },
  {
   "cell_type": "code",
   "execution_count": 11,
   "metadata": {},
   "outputs": [
    {
     "name": "stderr",
     "output_type": "stream",
     "text": [
      "C:\\Users\\asus\\Anaconda3\\lib\\site-packages\\pandas\\core\\indexing.py:179: SettingWithCopyWarning: \n",
      "A value is trying to be set on a copy of a slice from a DataFrame\n",
      "\n",
      "See the caveats in the documentation: http://pandas.pydata.org/pandas-docs/stable/indexing.html#indexing-view-versus-copy\n",
      "  self._setitem_with_indexer(indexer, value)\n"
     ]
    }
   ],
   "source": [
    "lab_code = pd.read_csv('lab_code.csv')\n",
    "diag_code = pd.read_csv('diag_code.csv')\n",
    "\n",
    "summary['test'] = np.nan\n",
    "\n",
    "for row in range(0, summary.shape[0] - 1):\n",
    "    if summary['vars'].iloc[row] in list(lab_code['Variable']):\n",
    "        summary['test'].iloc[row] = \"\".join(lab_code['Label Name'].loc[lab_code.Variable == summary['vars'].iloc[row]])\n",
    "    else:\n",
    "        summary['test'].iloc[row] = \"\".join(diag_code['Label Name'].loc[diag_code.Variable == summary['vars'].iloc[row]])"
   ]
  },
  {
   "cell_type": "code",
   "execution_count": 12,
   "metadata": {},
   "outputs": [
    {
     "data": {
      "text/html": [
       "<div>\n",
       "<style>\n",
       "    .dataframe thead tr:only-child th {\n",
       "        text-align: right;\n",
       "    }\n",
       "\n",
       "    .dataframe thead th {\n",
       "        text-align: left;\n",
       "    }\n",
       "\n",
       "    .dataframe tbody tr th {\n",
       "        vertical-align: top;\n",
       "    }\n",
       "</style>\n",
       "<table border=\"1\" class=\"dataframe\">\n",
       "  <thead>\n",
       "    <tr style=\"text-align: right;\">\n",
       "      <th></th>\n",
       "      <th>high outliers</th>\n",
       "      <th>low outliers</th>\n",
       "      <th>vars</th>\n",
       "      <th>test</th>\n",
       "    </tr>\n",
       "  </thead>\n",
       "  <tbody>\n",
       "    <tr>\n",
       "      <th>0</th>\n",
       "      <td>[Don Emilio Del Valle Memorial Hospital: 559.0]</td>\n",
       "      <td>[]</td>\n",
       "      <td>abg</td>\n",
       "      <td>Arterial Blood Gas (ABG)</td>\n",
       "    </tr>\n",
       "    <tr>\n",
       "      <th>1</th>\n",
       "      <td>[]</td>\n",
       "      <td>[]</td>\n",
       "      <td>bil_indirect</td>\n",
       "      <td>Bilirubin - Indirect</td>\n",
       "    </tr>\n",
       "    <tr>\n",
       "      <th>2</th>\n",
       "      <td>[Bataan General Hospital: 400.0, Culion Sanita...</td>\n",
       "      <td>[]</td>\n",
       "      <td>glc.exam.OGT.urine</td>\n",
       "      <td>Blood Glucose Exam - Oral Glucose Tolerance Te...</td>\n",
       "    </tr>\n",
       "    <tr>\n",
       "      <th>3</th>\n",
       "      <td>[]</td>\n",
       "      <td>[]</td>\n",
       "      <td>glc.exam.OGT.100</td>\n",
       "      <td>Blood Glucose Exam - Oral Glucose Tolerance Te...</td>\n",
       "    </tr>\n",
       "    <tr>\n",
       "      <th>4</th>\n",
       "      <td>[Rizal Medical Center: 200.0]</td>\n",
       "      <td>[]</td>\n",
       "      <td>comp03</td>\n",
       "      <td>Complement 3 (C3)</td>\n",
       "    </tr>\n",
       "  </tbody>\n",
       "</table>\n",
       "</div>"
      ],
      "text/plain": [
       "                                       high outliers low outliers  \\\n",
       "0    [Don Emilio Del Valle Memorial Hospital: 559.0]           []   \n",
       "1                                                 []           []   \n",
       "2  [Bataan General Hospital: 400.0, Culion Sanita...           []   \n",
       "3                                                 []           []   \n",
       "4                      [Rizal Medical Center: 200.0]           []   \n",
       "\n",
       "                 vars                                               test  \n",
       "0                 abg                           Arterial Blood Gas (ABG)  \n",
       "1        bil_indirect                               Bilirubin - Indirect  \n",
       "2  glc.exam.OGT.urine  Blood Glucose Exam - Oral Glucose Tolerance Te...  \n",
       "3    glc.exam.OGT.100  Blood Glucose Exam - Oral Glucose Tolerance Te...  \n",
       "4              comp03                                  Complement 3 (C3)  "
      ]
     },
     "execution_count": 12,
     "metadata": {},
     "output_type": "execute_result"
    }
   ],
   "source": [
    "summary.head()"
   ]
  },
  {
   "cell_type": "code",
   "execution_count": 13,
   "metadata": {
    "collapsed": true
   },
   "outputs": [],
   "source": [
    "hosps = list(lab['hosp_name'])\n",
    "\n",
    "high_outliers_lists = []\n",
    "low_outliers_lists = []\n",
    "\n",
    "for hosp in hosps:\n",
    "    highs = []\n",
    "    lows = []\n",
    "    \n",
    "    for row in range(0, summary.shape[0] - 1):\n",
    "        high_outs = '\\t'.join(summary['high outliers'].iloc[row])\n",
    "        low_outs = '\\t'.join(summary['low outliers'].iloc[row])\n",
    "        \n",
    "        var = summary['vars'].iloc[row]\n",
    "        if hosp in high_outs:\n",
    "            if var in list(lab.columns.values):\n",
    "                fee = [summary['test'].iloc[row], \": \", list(lab[var].loc[lab.hosp_name == hosp])[0]]\n",
    "            else:\n",
    "                fee = [summary['test'].iloc[row], \": \", list(diag[var].loc[diag.hosp_name == hosp])[0]]\n",
    "            highs.append(\"\".join(str(e) for e in fee))\n",
    "        \n",
    "        if hosp in low_outs:\n",
    "            if var in list(lab.columns.values):\n",
    "                fee = [summary['test'].iloc[row], \": \", list(lab[var].loc[lab.hosp_name == hosp])[0]]\n",
    "            else:\n",
    "                fee = [summary['test'].iloc[row], \": \", list(diag[var].loc[diag.hosp_name == hosp])[0]]\n",
    "            lows.append(\"\".join(str(e) for e in fee))\n",
    "    \n",
    "    high_outliers_lists.append(highs)\n",
    "    low_outliers_lists.append(lows)\n",
    "    \n",
    "outlier_summary = pd.DataFrame({\n",
    "    'hospitals': hosps,\n",
    "    'high outliers': high_outliers_lists,\n",
    "    'low outliers': low_outliers_lists\n",
    "})"
   ]
  },
  {
   "cell_type": "code",
   "execution_count": 14,
   "metadata": {
    "collapsed": true
   },
   "outputs": [],
   "source": [
    "outlier_summary.to_csv('outlier summary.csv')"
   ]
  },
  {
   "cell_type": "code",
   "execution_count": null,
   "metadata": {
    "collapsed": true
   },
   "outputs": [],
   "source": []
  }
 ],
 "metadata": {
  "kernelspec": {
   "display_name": "Python 3",
   "language": "python",
   "name": "python3"
  },
  "language_info": {
   "codemirror_mode": {
    "name": "ipython",
    "version": 3
   },
   "file_extension": ".py",
   "mimetype": "text/x-python",
   "name": "python",
   "nbconvert_exporter": "python",
   "pygments_lexer": "ipython3",
   "version": "3.6.1"
  }
 },
 "nbformat": 4,
 "nbformat_minor": 2
}
