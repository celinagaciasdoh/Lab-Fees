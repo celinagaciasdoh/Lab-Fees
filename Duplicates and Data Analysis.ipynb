{
 "cells": [
  {
   "cell_type": "markdown",
   "metadata": {},
   "source": [
    "# Lab Fees"
   ]
  },
  {
   "cell_type": "code",
   "execution_count": 2,
   "metadata": {},
   "outputs": [
    {
     "name": "stderr",
     "output_type": "stream",
     "text": [
      "b'Skipping line 59: expected 12 fields, saw 13\\n'\n"
     ]
    }
   ],
   "source": [
    "#read in the data and the file with all the duplicates\n",
    "import pandas as pd\n",
    "import numpy as np\n",
    "\n",
    "lab_dups = pd.read_csv('lab_dups.csv',error_bad_lines=False)\n",
    "lab_newcols = lab_dups['newcols']\n",
    "del lab_dups['newcols']\n",
    "\n",
    "lab = pd.read_csv('lab - not cleaned.csv', encoding = \"ISO-8859-1\", sep = \";\")\n",
    "lab = lab.replace(\"N/A\", np.nan)"
   ]
  },
  {
   "cell_type": "code",
   "execution_count": 3,
   "metadata": {
    "collapsed": true
   },
   "outputs": [],
   "source": [
    "def comb_dups(dups, dat, newcols):\n",
    "    for i in range(0, dups.shape[0]):\n",
    "        newcol_items = []\n",
    "    \n",
    "        colslist = dups.iloc[i].unique() \n",
    "        colslist = [x for x in colslist if str(x) != 'nan'] \n",
    "        for row in range(0, dat.shape[0]):\n",
    "            vals = dat[colslist].iloc[row].unique() \n",
    "            vals = [x for x in vals if str(x) != 'nan']\n",
    "            if len(vals) == 0: \n",
    "                newcol_items.append(np.nan) \n",
    "            else: \n",
    "                vals = [float(v) for v in vals] \n",
    "                newcol_items.append(np.nanmax(vals))\n",
    "\n",
    "        dat = dat.drop(colslist, axis = 1) \n",
    "        dat[newcols[i]] = newcol_items \n",
    "    return(dat)\n",
    "    \n",
    "lab = comb_dups(lab_dups, lab, lab_newcols)"
   ]
  },
  {
   "cell_type": "code",
   "execution_count": 4,
   "metadata": {
    "collapsed": true
   },
   "outputs": [],
   "source": [
    "lab.to_csv('lab.csv',index = False)"
   ]
  },
  {
   "cell_type": "markdown",
   "metadata": {},
   "source": [
    "### Data Analysis"
   ]
  },
  {
   "cell_type": "code",
   "execution_count": 10,
   "metadata": {
    "collapsed": true
   },
   "outputs": [],
   "source": [
    "from scipy.stats import ttest_ind\n",
    "\n",
    "def summarize(dat):\n",
    "    meds = []\n",
    "    mean = []\n",
    "    sd = []\n",
    "    median = []\n",
    "    mini = []\n",
    "    maxi = []\n",
    "    rangeo = []\n",
    "    n = []\n",
    "    no_urban = []\n",
    "    mean_urban = []\n",
    "    mean_rural = []\n",
    "    no_rural = []\n",
    "    ttests = []\n",
    "    high_outliers = []\n",
    "    low_outliers = []\n",
    "\n",
    "    for col in [c for c in lab.columns.values if c not in ['hosp_name','urban/rural']]:\n",
    "    \n",
    "        vals = [float(i) for i in dat[col] if str(i) != 'nan']\n",
    "    \n",
    "        if len(vals) >= 10:\n",
    "            #summary statistics\n",
    "            meds.append(col)\n",
    "            mean.append(np.mean(vals))\n",
    "            sd.append(np.std(vals))\n",
    "            median.append(np.median(vals))\n",
    "            mini.append(np.nanmin(vals))\n",
    "            maxi.append(np.nanmax(vals))\n",
    "            rangeo.append(np.nanmax(vals) - np.nanmin(vals))\n",
    "            n.append(len(vals))\n",
    "            \n",
    "            #ttest\n",
    "            sub = dat[dat[col].notnull()]\n",
    "            ttest = ttest_ind(sub[col].loc[sub['urban/rural'] == 'U'], sub[col].loc[sub['urban/rural'] == 'R'])[1]\n",
    "            no_urban.append(len(sub[col].loc[sub['urban/rural'] == 'U']))\n",
    "            mean_urban.append(np.mean(sub[col].loc[sub['urban/rural'] == 'U']))\n",
    "            no_rural.append(len(sub[col].loc[sub['urban/rural'] == 'R']))\n",
    "            mean_rural.append(np.mean(sub[col].loc[sub['urban/rural'] == 'R']))\n",
    "            ttests.append(ttest)\n",
    "            \n",
    "            #identifying outliers\n",
    "            high_outlier = []\n",
    "            low_outlier = []\n",
    "    \n",
    "            for hosp in dat['hosp_name']:\n",
    "                if str(dat[col].loc[dat.hosp_name == hosp].values[0]) != 'nan':\n",
    "                    val = dat[col].loc[dat.hosp_name == hosp].values[0]\n",
    "\n",
    "                    if np.less(np.mean(vals) + 1.96*np.std(vals), val):\n",
    "                        outlier = [hosp, \": \",str(val)]\n",
    "                        high_outlier.append(\"\".join(outlier))\n",
    "            \n",
    "                    if np.less(val, np.mean(vals) - 1.96*np.std(vals)):\n",
    "                        outlier = [hosp, \": \",str(val)]\n",
    "                        low_outlier.append(\"\".join(outlier))\n",
    "    \n",
    "            high_outliers.append(high_outlier)\n",
    "            low_outliers.append(low_outlier)\n",
    "\n",
    "    summary = pd.DataFrame({'meds': meds,\n",
    "                       'mean': mean,\n",
    "                       'sd': sd,\n",
    "                       'median': median,\n",
    "                       'min': mini,\n",
    "                       'max': maxi,\n",
    "                       'range': rangeo,\n",
    "                       'no urban': no_urban,\n",
    "                       'mean urban': mean_urban,\n",
    "                       'no rural': no_rural,\n",
    "                       'mean rural': mean_rural,\n",
    "                       't-test': ttests,\n",
    "                       'N': n,\n",
    "                       'high outliers': high_outliers,\n",
    "                       'low outliers': low_outliers})\n",
    "    return(summary)\n",
    "\n",
    "summary1 = summarize(lab)"
   ]
  },
  {
   "cell_type": "code",
   "execution_count": 11,
   "metadata": {
    "collapsed": true
   },
   "outputs": [],
   "source": [
    "summary1.to_csv('summary1.csv')"
   ]
  },
  {
   "cell_type": "markdown",
   "metadata": {},
   "source": [
    "### Creating a summary of the outlying values"
   ]
  },
  {
   "cell_type": "code",
   "execution_count": 11,
   "metadata": {
    "collapsed": true
   },
   "outputs": [],
   "source": [
    "lab_code = pd.read_csv('lab_code.csv')"
   ]
  },
  {
   "cell_type": "code",
   "execution_count": 12,
   "metadata": {},
   "outputs": [
    {
     "data": {
      "text/html": [
       "<div>\n",
       "<style>\n",
       "    .dataframe thead tr:only-child th {\n",
       "        text-align: right;\n",
       "    }\n",
       "\n",
       "    .dataframe thead th {\n",
       "        text-align: left;\n",
       "    }\n",
       "\n",
       "    .dataframe tbody tr th {\n",
       "        vertical-align: top;\n",
       "    }\n",
       "</style>\n",
       "<table border=\"1\" class=\"dataframe\">\n",
       "  <thead>\n",
       "    <tr style=\"text-align: right;\">\n",
       "      <th></th>\n",
       "      <th>Variable</th>\n",
       "      <th>Label Name</th>\n",
       "    </tr>\n",
       "  </thead>\n",
       "  <tbody>\n",
       "    <tr>\n",
       "      <th>0</th>\n",
       "      <td>acid_phos</td>\n",
       "      <td>Acid Phosphate</td>\n",
       "    </tr>\n",
       "    <tr>\n",
       "      <th>1</th>\n",
       "      <td>alka_phos</td>\n",
       "      <td>Alkaline Phosphatase (ALP)</td>\n",
       "    </tr>\n",
       "    <tr>\n",
       "      <th>2</th>\n",
       "      <td>anti.hbs</td>\n",
       "      <td>Anti-HBs</td>\n",
       "    </tr>\n",
       "    <tr>\n",
       "      <th>3</th>\n",
       "      <td>anti.hbe</td>\n",
       "      <td>Anti-HBe</td>\n",
       "    </tr>\n",
       "    <tr>\n",
       "      <th>4</th>\n",
       "      <td>anti.hbc</td>\n",
       "      <td>Anti-HBc</td>\n",
       "    </tr>\n",
       "  </tbody>\n",
       "</table>\n",
       "</div>"
      ],
      "text/plain": [
       "    Variable                  Label Name\n",
       "0  acid_phos              Acid Phosphate\n",
       "1  alka_phos  Alkaline Phosphatase (ALP)\n",
       "2   anti.hbs                    Anti-HBs\n",
       "3   anti.hbe                    Anti-HBe\n",
       "4   anti.hbc                    Anti-HBc"
      ]
     },
     "execution_count": 12,
     "metadata": {},
     "output_type": "execute_result"
    }
   ],
   "source": [
    "lab_code.head()"
   ]
  },
  {
   "cell_type": "code",
   "execution_count": 40,
   "metadata": {
    "collapsed": true
   },
   "outputs": [],
   "source": [
    "hosps = lab['hosp_name']\n",
    "\n",
    "outlier_lists = []\n",
    "\n",
    "for hosp in hosps:\n",
    "    outlabs = []\n",
    "    for row in range(0, summary1.shape[0]- 1):\n",
    "        outs = '\\t'.join(summary1['high outliers'].iloc[row])\n",
    "        if hosp in outs:\n",
    "            var = summary1['meds'].iloc[row]\n",
    "            outlabs.append(np.array(lab_code['Label Name'].loc[lab_code.Variable == var])[0])\n",
    "    outlier_lists.append(outlabs)\n",
    "    \n",
    "summary1_outs = pd.DataFrame({'hospitals': hosps,\n",
    "                             'meds to recheck': outlier_lists})"
   ]
  },
  {
   "cell_type": "code",
   "execution_count": 42,
   "metadata": {
    "collapsed": true
   },
   "outputs": [],
   "source": [
    "summary1_outs.to_csv('summary1_outs.csv')"
   ]
  },
  {
   "cell_type": "markdown",
   "metadata": {},
   "source": [
    "# Diagnosis Fees"
   ]
  },
  {
   "cell_type": "code",
   "execution_count": null,
   "metadata": {
    "collapsed": true
   },
   "outputs": [],
   "source": []
  },
  {
   "cell_type": "code",
   "execution_count": null,
   "metadata": {
    "collapsed": true
   },
   "outputs": [],
   "source": []
  },
  {
   "cell_type": "code",
   "execution_count": null,
   "metadata": {
    "collapsed": true
   },
   "outputs": [],
   "source": []
  }
 ],
 "metadata": {
  "kernelspec": {
   "display_name": "Python 3",
   "language": "python",
   "name": "python3"
  },
  "language_info": {
   "codemirror_mode": {
    "name": "ipython",
    "version": 3
   },
   "file_extension": ".py",
   "mimetype": "text/x-python",
   "name": "python",
   "nbconvert_exporter": "python",
   "pygments_lexer": "ipython3",
   "version": "3.6.1"
  }
 },
 "nbformat": 4,
 "nbformat_minor": 2
}
