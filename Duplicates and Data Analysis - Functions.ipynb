{
 "cells": [
  {
   "cell_type": "markdown",
   "metadata": {},
   "source": [
    "# Lab Fees"
   ]
  },
  {
   "cell_type": "code",
   "execution_count": null,
   "metadata": {
    "collapsed": true
   },
   "outputs": [],
   "source": [
    "#read in the data and the file with all the duplicates\n",
    "import pandas as pd\n",
    "import numpy as np\n",
    "\n",
    "lab_dups = pd.read_csv('lab_dups.csv',error_bad_lines=False)\n",
    "lab_newcols = lab_dups['newcols']\n",
    "del lab_dups['newcols']\n",
    "\n",
    "lab = pd.read_csv('lab.csv', encoding = \"ISO-8859-1\", sep = \";\")\n",
    "lab = lab.replace(\"N/A\", np.nan)"
   ]
  },
  {
   "cell_type": "code",
   "execution_count": 23,
   "metadata": {
    "collapsed": false
   },
   "outputs": [
    {
     "name": "stderr",
     "output_type": "stream",
     "text": [
      "C:\\Users\\asus\\Anaconda3\\lib\\site-packages\\ipykernel_launcher.py:15: DeprecationWarning: \n",
      ".ix is deprecated. Please use\n",
      ".loc for label based indexing or\n",
      ".iloc for positional indexing\n",
      "\n",
      "See the documentation here:\n",
      "http://pandas.pydata.org/pandas-docs/stable/indexing.html#deprecate_ix\n",
      "  from ipykernel import kernelapp as app\n"
     ]
    }
   ],
   "source": [
    "def comb_dups(dups, dat, newcols)\n",
    "    for i in range(0, dups.shape[0]-1): #for each row in\n",
    "        newcol_items = [] #come up with a list that will hold valid value among duplicates\n",
    "    \n",
    "        colslist = dups.iloc[i].unique() #obtain the valid dat column names\n",
    "        colslist = [x for x in colslist if str(x) != 'nan'] \n",
    "        for row in range(0,dat.shape[0]-1): #for each row in dat\n",
    "            vals = dat[colslist].iloc[row].unique() \n",
    "                #create a list of values concerning duplicate columns\n",
    "            vals = [x for x in vals if str(x) != 'nan'] #strip it of NaNs\n",
    "            if len(vals) == 0: #if all of them happened to have been NaNs\n",
    "                newcol_items.append(np.nan) #record the final value as a NaN\n",
    "            else: \n",
    "                vals = [float(v) for v in vals] #else: take the max value among them\n",
    "                newcol_items.append(np.nanmax(vals))\n",
    "\n",
    "        dat = dat.drop(dat.ix[:,colslist].head(0).columns, axis=1) #drop all the duplicate columns\n",
    "        dat[newcols[i]] = newcol_items #add list of valid values to list for output dataframe\n",
    "        return(dat)\n",
    "    \n",
    "lab = comb_dups(lab_dups, lab, lab_newcols)"
   ]
  },
  {
   "cell_type": "code",
   "execution_count": 24,
   "metadata": {
    "collapsed": true
   },
   "outputs": [],
   "source": [
    "lab.to_csv('lab_cleaned.csv',index = False)"
   ]
  },
  {
   "cell_type": "markdown",
   "metadata": {},
   "source": [
    "### Data Analysis"
   ]
  },
  {
   "cell_type": "code",
   "execution_count": 2,
   "metadata": {
    "collapsed": true
   },
   "outputs": [],
   "source": [
    "def summarize(dat):\n",
    "    meds = []\n",
    "    mean = []\n",
    "    sd = []\n",
    "    median = []\n",
    "    mini = []\n",
    "    maxi = []\n",
    "    rangeo = []\n",
    "    n = []\n",
    "    high_outliers = []\n",
    "    low_outliers = []\n",
    "\n",
    "    for col in dat.columns.values[dat.columns.values != 'hosp_name']:\n",
    "    \n",
    "        vals = [i for i in dat[] if str(i) != 'nan']\n",
    "    \n",
    "        if len(vals) >= 10:\n",
    "            meds.append(col)\n",
    "            mean.append(np.mean(vals))\n",
    "            sd.append(np.std(vals))\n",
    "            median.append(np.median(vals))\n",
    "            mini.append(np.nanmin(vals))\n",
    "            maxi.append(np.nanmax(vals))\n",
    "            rangeo.append(np.nanmax(vals) - np.nanmin(vals))\n",
    "            n.append(len(vals))\n",
    "    \n",
    "            high_outlier = []\n",
    "            low_outlier = []\n",
    "    \n",
    "            for hosp in dat['hosp_name']:\n",
    "                if str(dat[col].loc[dat.hosp_name == hosp].values[0]) != 'nan':\n",
    "                    val = dat[col].loc[dat.hosp_name == hosp].values[0]\n",
    "\n",
    "                    if np.less(np.mean(vals) + 1.96*np.std(vals), val):\n",
    "                        outlier = [hosp, \": \",str(val)]\n",
    "                        high_outlier.append(\"\".join(outlier))\n",
    "            \n",
    "                    if np.less(val, np.mean(vals) - 1.96*np.std(vals)):\n",
    "                        outlier = [hosp, \": \",str(val)]\n",
    "                        low_outlier.append(\"\".join(outlier))\n",
    "    \n",
    "            high_outliers.append(high_outlier)\n",
    "            low_outliers.append(low_outlier)\n",
    "\n",
    "    summary = pd.DataFrame({'meds': meds,\n",
    "                       'mean': mean,\n",
    "                       'sd': sd,\n",
    "                       'median': median,\n",
    "                       'min': mini,\n",
    "                       'max': maxi,\n",
    "                       'range': rangeo,\n",
    "                       'N': n,\n",
    "                       'high outliers': high_outliers,\n",
    "                       'low outliers': low_outliers})\n",
    "    return(summary)\n",
    "\n",
    "summary1 = summarize(lab)"
   ]
  },
  {
   "cell_type": "code",
   "execution_count": 140,
   "metadata": {
    "collapsed": true
   },
   "outputs": [],
   "source": [
    "summary1.to_csv('summary1.csv')"
   ]
  },
  {
   "cell_type": "markdown",
   "metadata": {},
   "source": [
    "### Creating a summary of the outlying values"
   ]
  },
  {
   "cell_type": "code",
   "execution_count": 11,
   "metadata": {
    "collapsed": true
   },
   "outputs": [],
   "source": [
    "lab_code = pd.read_csv('lab_code.csv')"
   ]
  },
  {
   "cell_type": "code",
   "execution_count": 12,
   "metadata": {
    "collapsed": false
   },
   "outputs": [
    {
     "data": {
      "text/html": [
       "<div>\n",
       "<style>\n",
       "    .dataframe thead tr:only-child th {\n",
       "        text-align: right;\n",
       "    }\n",
       "\n",
       "    .dataframe thead th {\n",
       "        text-align: left;\n",
       "    }\n",
       "\n",
       "    .dataframe tbody tr th {\n",
       "        vertical-align: top;\n",
       "    }\n",
       "</style>\n",
       "<table border=\"1\" class=\"dataframe\">\n",
       "  <thead>\n",
       "    <tr style=\"text-align: right;\">\n",
       "      <th></th>\n",
       "      <th>Variable</th>\n",
       "      <th>Label Name</th>\n",
       "    </tr>\n",
       "  </thead>\n",
       "  <tbody>\n",
       "    <tr>\n",
       "      <th>0</th>\n",
       "      <td>acid_phos</td>\n",
       "      <td>Acid Phosphate</td>\n",
       "    </tr>\n",
       "    <tr>\n",
       "      <th>1</th>\n",
       "      <td>alka_phos</td>\n",
       "      <td>Alkaline Phosphatase (ALP)</td>\n",
       "    </tr>\n",
       "    <tr>\n",
       "      <th>2</th>\n",
       "      <td>anti.hbs</td>\n",
       "      <td>Anti-HBs</td>\n",
       "    </tr>\n",
       "    <tr>\n",
       "      <th>3</th>\n",
       "      <td>anti.hbe</td>\n",
       "      <td>Anti-HBe</td>\n",
       "    </tr>\n",
       "    <tr>\n",
       "      <th>4</th>\n",
       "      <td>anti.hbc</td>\n",
       "      <td>Anti-HBc</td>\n",
       "    </tr>\n",
       "  </tbody>\n",
       "</table>\n",
       "</div>"
      ],
      "text/plain": [
       "    Variable                  Label Name\n",
       "0  acid_phos              Acid Phosphate\n",
       "1  alka_phos  Alkaline Phosphatase (ALP)\n",
       "2   anti.hbs                    Anti-HBs\n",
       "3   anti.hbe                    Anti-HBe\n",
       "4   anti.hbc                    Anti-HBc"
      ]
     },
     "execution_count": 12,
     "metadata": {},
     "output_type": "execute_result"
    }
   ],
   "source": [
    "lab_code.head()"
   ]
  },
  {
   "cell_type": "code",
   "execution_count": 40,
   "metadata": {
    "collapsed": true
   },
   "outputs": [],
   "source": [
    "def summarize_outliers(summary, dat, code):\n",
    "    hosps = dat['hosp_name']\n",
    "\n",
    "    outlier_lists = []\n",
    "\n",
    "    for hosp in hosps:\n",
    "        outs = []\n",
    "        for row in range(0, summary.shape[0]- 1):\n",
    "            outs = '\\t'.join(summary['high outliers'].iloc[row])\n",
    "            if hosp in outs:\n",
    "                var = summary['meds'].iloc[row]\n",
    "                outs.append(np.array(code['Label Name'].loc[code.Variable == var])[0])\n",
    "        outlier_lists.append(outs)\n",
    "    \n",
    "    summary_outs = pd.DataFrame({'hospitals': hosps,\n",
    "                             'meds to recheck': outlier_lists})\n",
    "    return(summary_outs)\n",
    "    \n",
    "summary1_outs = summarize_outliers(summary1, lab, lab_code)"
   ]
  },
  {
   "cell_type": "code",
   "execution_count": 42,
   "metadata": {
    "collapsed": true
   },
   "outputs": [],
   "source": [
    "summary1_outs.to_csv('summary1_outs.csv')"
   ]
  },
  {
   "cell_type": "markdown",
   "metadata": {},
   "source": [
    "# Diagnosis Fees"
   ]
  },
  {
   "cell_type": "code",
   "execution_count": null,
   "metadata": {
    "collapsed": true
   },
   "outputs": [],
   "source": []
  },
  {
   "cell_type": "code",
   "execution_count": null,
   "metadata": {
    "collapsed": true
   },
   "outputs": [],
   "source": []
  },
  {
   "cell_type": "code",
   "execution_count": null,
   "metadata": {
    "collapsed": true
   },
   "outputs": [],
   "source": []
  }
 ],
 "metadata": {
  "kernelspec": {
   "display_name": "Python 3",
   "language": "python",
   "name": "python3"
  },
  "language_info": {
   "codemirror_mode": {
    "name": "ipython",
    "version": 3
   },
   "file_extension": ".py",
   "mimetype": "text/x-python",
   "name": "python",
   "nbconvert_exporter": "python",
   "pygments_lexer": "ipython3",
   "version": "3.6.0"
  }
 },
 "nbformat": 4,
 "nbformat_minor": 2
}
